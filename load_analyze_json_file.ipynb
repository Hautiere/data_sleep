{
 "cells": [
  {
   "cell_type": "code",
   "execution_count": null,
   "metadata": {},
   "outputs": [],
   "source": [
    "# Cell 1: Import des bibliothèques nécessaires\n",
    "import json\n",
    "import pandas as pd\n",
    "\n",
    "# Cell 2: Charger le fichier JSON\n",
    "def load_json_file(file_path):\n",
    "    with open(file_path, 'r') as f:\n",
    "        data = json.load(f)\n",
    "    return data\n",
    "\n",
    "# Cell 3: Afficher un extrait des données pour visualiser la structure\n",
    "def display_json_sample(data, sample_size=2):\n",
    "    return data[:sample_size]\n",
    "\n",
    "# Cell 4: Convertir les données JSON en DataFrame pandas\n",
    "def json_to_dataframe(data):\n",
    "    df = pd.json_normalize(data)\n",
    "    return df\n",
    "\n",
    "# Cell 5: Analyser la structure des données et les premières lignes du DataFrame\n",
    "def analyze_dataframe(df):\n",
    "    print(\"Structure des données:\")\n",
    "    print(df.info())\n",
    "    print(\"\\nPremières lignes du DataFrame:\")\n",
    "    return df.head()\n",
    "\n",
    "# Cell 6: Charger, visualiser et analyser le fichier JSON\n",
    "# Remplacez 'votre_fichier.json' par le chemin réel vers votre fichier JSON\n",
    "file_path = 'votre_fichier.json'  # Mettre à jour avec le bon chemin\n",
    "data = load_json_file(file_path)\n",
    "\n",
    "# Afficher un extrait du contenu JSON\n",
    "sample_data = display_json_sample(data)\n",
    "print(\"Extrait des données JSON:\")\n",
    "print(sample_data)\n",
    "\n",
    "# Convertir le JSON en DataFrame\n",
    "df = json_to_dataframe(data)\n",
    "\n",
    "# Analyser la structure du DataFrame\n",
    "analyze_dataframe(df)\n"
   ]
  }
 ],
 "metadata": {
  "language_info": {
   "name": "python"
  }
 },
 "nbformat": 4,
 "nbformat_minor": 2
}
